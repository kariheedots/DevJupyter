{
 "cells": [
  {
   "cell_type": "markdown",
   "metadata": {},
   "source": [
    "[PuzzlOR Toy Builder Problem](http://puzzlor.com/2016-02_ToyBuilder.html)"
   ]
  },
  {
   "cell_type": "markdown",
   "metadata": {},
   "source": [
    "| Toy | Blue Blocks | Green Rods | Red Wheels |\n",
    "| --------    | ---:|---:|---:|\n",
    "| Airplane    | 3   | 2  | 1  |\n",
    "| Helicopter  | 2   | 4  | 1  |\n",
    "| Car         | 1   | 2  | 4  | \n",
    "| *available* | 25  | 29 | 30 |"
   ]
  },
  {
   "cell_type": "markdown",
   "metadata": {},
   "source": [
    "<hr>"
   ]
  },
  {
   "cell_type": "markdown",
   "metadata": {},
   "source": [
    "$maximize \\ \\ \\$7A+\\$8H+\\$5C$"
   ]
  },
  {
   "cell_type": "markdown",
   "metadata": {},
   "source": [
    "\n",
    "$$\n",
    "\\begin{align}\n",
    "3A+2H+C\\le25 \\\\\n",
    "2A+4H+2C\\le29 \\\\\n",
    "A+H+4C\\le30 \n",
    "\\end{align}\n",
    "$$"
   ]
  },
  {
   "cell_type": "markdown",
   "metadata": {},
   "source": [
    "\n",
    "$$\n",
    "A,H,C\\ge0 \n",
    "$$"
   ]
  },
  {
   "cell_type": "markdown",
   "metadata": {},
   "source": [
    "<hr>"
   ]
  },
  {
   "cell_type": "markdown",
   "metadata": {},
   "source": [
    "Because of the resource constraints, we can also put an upper limit on each variable. "
   ]
  },
  {
   "cell_type": "markdown",
   "metadata": {},
   "source": [
    "$$\n",
    "\\begin{align}\n",
    "0\\le A\\le 8 \\\\ \n",
    "0\\le H\\le 7 \\\\\n",
    "0\\le C\\le 7 \n",
    "\\end{align}\n",
    "$$"
   ]
  },
  {
   "cell_type": "markdown",
   "metadata": {},
   "source": [
    "This problem is small enough to be solved with a brute force search in Python; only (9 x 8 x 8) = 576 candidate solutions to check. On the first pass, print out feasible solutions with profit >= 56, which is an easily obtained lower bound on max profit (by making Airplanes only).  The printed solutions included profits above 70, so that became the new profit cut-off for printing solutions on the second pass."
   ]
  },
  {
   "cell_type": "code",
   "execution_count": 1,
   "metadata": {
    "collapsed": false
   },
   "outputs": [
    {
     "name": "stdout",
     "output_type": "stream",
     "text": [
      "3 3 5 70\n",
      "4 2 6 74\n",
      "4 3 4 72\n",
      "4 4 2 70\n",
      "5 1 6 73\n",
      "5 2 4 71\n",
      "5 2 5 76\n",
      "5 3 3 74\n",
      "5 4 1 72\n",
      "6 0 6 72\n",
      "6 1 4 70\n",
      "6 1 5 75\n",
      "6 2 3 73\n",
      "6 3 1 71\n"
     ]
    }
   ],
   "source": [
    "for A in range(9):\n",
    "    for H in range(8):\n",
    "        for C in range(8):\n",
    "            Profit = 7*A + 8*H + 5*C\n",
    "            Blue = 3*A + 2*H + C\n",
    "            Green = 2*A + 4*H + 2*C\n",
    "            Red = A + H + 4*C\n",
    "            if (Profit >= 70) and (Blue <= 25) and (Green <= 29) and (Red <= 30):\n",
    "                print(A,H,C,Profit)"
   ]
  },
  {
   "cell_type": "markdown",
   "metadata": {},
   "source": [
    "Maximum Profit = $76; obtained by building 5 Airplanes, 2 Helicopters, 5 Cars."
   ]
  }
 ],
 "metadata": {
  "kernelspec": {
   "display_name": "Python 3",
   "language": "python",
   "name": "python3"
  },
  "language_info": {
   "codemirror_mode": {
    "name": "ipython",
    "version": 3
   },
   "file_extension": ".py",
   "mimetype": "text/x-python",
   "name": "python",
   "nbconvert_exporter": "python",
   "pygments_lexer": "ipython3",
   "version": "3.5.1"
  }
 },
 "nbformat": 4,
 "nbformat_minor": 0
}
