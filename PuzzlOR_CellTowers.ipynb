{
 "cells": [
  {
   "cell_type": "markdown",
   "metadata": {},
   "source": [
    "### The Cell Tower Problem, Part I\n",
    "\n",
    "http://puzzlor.com/2016-04_CellTowers.html"
   ]
  },
  {
   "cell_type": "markdown",
   "metadata": {},
   "source": [
    "The goal is to find the minimum number of cell towers to that will achieve at least 70% coverage of the 41 neighborhoods."
   ]
  },
  {
   "cell_type": "code",
   "execution_count": 1,
   "metadata": {
    "collapsed": false
   },
   "outputs": [
    {
     "data": {
      "text/plain": [
       "28.7"
      ]
     },
     "execution_count": 1,
     "metadata": {},
     "output_type": "execute_result"
    }
   ],
   "source": [
    "41*.70"
   ]
  },
  {
   "cell_type": "markdown",
   "metadata": {},
   "source": [
    "We need to cover at least 29 Neighborhoods.  A little experimentation shows that four towers are not going to be enough.  Five towers might be enough.  There are about 75 million different ways to place 5 towers on the 10x10 grid."
   ]
  },
  {
   "cell_type": "code",
   "execution_count": 2,
   "metadata": {
    "collapsed": false
   },
   "outputs": [
    {
     "name": "stdout",
     "output_type": "stream",
     "text": [
      "100 choose 5 =  75287520.0\n"
     ]
    }
   ],
   "source": [
    "from math import factorial\n",
    "print(\"100 choose 5 = \",factorial(100)/(factorial(95)*factorial(5)))"
   ]
  },
  {
   "cell_type": "markdown",
   "metadata": {},
   "source": [
    "$${100\\choose 5}  = 75287520$$"
   ]
  },
  {
   "cell_type": "markdown",
   "metadata": {},
   "source": [
    "The code below examines all possible ways to place 5 towers.  There are five different arrangements of 5 towers that cover 27 neighborhoods, but that is the best we can do.  To cover 29 neighborhoods, we will have to place at least 6 towers, but that is too many combinations for a brute force search..."
   ]
  },
  {
   "cell_type": "code",
   "execution_count": 3,
   "metadata": {
    "collapsed": false
   },
   "outputs": [],
   "source": [
    "from itertools import combinations"
   ]
  },
  {
   "cell_type": "code",
   "execution_count": 4,
   "metadata": {
    "collapsed": false
   },
   "outputs": [],
   "source": [
    "def coverage(j):\n",
    "    \n",
    "    row0,col0=divmod(j-1,10)\n",
    "    \n",
    "    if (j==1):\n",
    "        return([1,2,11,12]) \n",
    "    if (j==10):\n",
    "        return([9,10,19,20])\n",
    "    if (j==91):\n",
    "        return([81,82,91,92])\n",
    "    if (j==100):\n",
    "        return([89,90,99,100])\n",
    "    \n",
    "    if (j<10):\n",
    "        return([j-1,j,j+1,j+9,j+10,j+11])\n",
    "    if (j>91):\n",
    "        return([j-11,j-10,j-9,j-1,j,j+1])\n",
    "    \n",
    "    if (col0==0):\n",
    "        return([j-10,j-9,j,j+1,j+10,j+11])\n",
    "    if (col0==9):\n",
    "        return([j-11,j-10,j-1,j,j+9,j+10])\n",
    "    \n",
    "    return([j-11,j-10,j-9,j-1,j,j+1,j+9,j+10,j+11])\n"
   ]
  },
  {
   "cell_type": "code",
   "execution_count": 5,
   "metadata": {
    "collapsed": false
   },
   "outputs": [
    {
     "data": {
      "text/plain": [
       "41"
      ]
     },
     "execution_count": 5,
     "metadata": {},
     "output_type": "execute_result"
    }
   ],
   "source": [
    "neighborhoods={3,5,6,8,11,15,24,26,27,29,30,35,37,39,43,\n",
    "               46,47,48,49,51,54,55,57,61,62,63,64,65,\n",
    "               70,75,77,81,83,87,88,90,91,95,96,99,100}\n",
    "len(neighborhoods)"
   ]
  },
  {
   "cell_type": "code",
   "execution_count": 6,
   "metadata": {
    "collapsed": false
   },
   "outputs": [
    {
     "name": "stdout",
     "output_type": "stream",
     "text": [
      "Tower Locations:  (15, 38, 52, 55, 86) \n",
      "Coverage:  27 Neighborhoods:  {5, 6, 15, 24, 26, 27, 29, 37, 39, 43, 46, 47, 48, 49, 51, 54, 55, 61, 62, 63, 64, 65, 75, 77, 87, 95, 96} \n",
      "\n",
      "Tower Locations:  (15, 38, 54, 72, 86) \n",
      "Coverage:  27 Neighborhoods:  {5, 6, 15, 24, 26, 27, 29, 37, 39, 43, 47, 48, 49, 54, 55, 61, 62, 63, 64, 65, 75, 77, 81, 83, 87, 95, 96} \n",
      "\n",
      "Tower Locations:  (15, 38, 54, 86, 89) \n",
      "Coverage:  27 Neighborhoods:  {5, 6, 15, 24, 26, 27, 29, 37, 39, 43, 47, 48, 49, 54, 55, 63, 64, 65, 75, 77, 87, 88, 90, 95, 96, 99, 100} \n",
      "\n",
      "Tower Locations:  (15, 38, 54, 86, 99) \n",
      "Coverage:  27 Neighborhoods:  {5, 6, 15, 24, 26, 27, 29, 37, 39, 43, 47, 48, 49, 54, 55, 63, 64, 65, 75, 77, 87, 88, 90, 95, 96, 99, 100} \n",
      "\n",
      "Tower Locations:  (15, 38, 55, 72, 86) \n",
      "Coverage:  27 Neighborhoods:  {5, 6, 15, 24, 26, 27, 29, 37, 39, 46, 47, 48, 49, 54, 55, 61, 62, 63, 64, 65, 75, 77, 81, 83, 87, 95, 96} \n",
      "\n"
     ]
    }
   ],
   "source": [
    "for indexes in combinations(range(1,101), 5):\n",
    "    coverlist = []\n",
    "    coverset = {}\n",
    "    for i in indexes:\n",
    "        coverlist += coverage(i)\n",
    "        \n",
    "    coverset=set(coverlist)\n",
    "    inset = coverset.intersection(neighborhoods)\n",
    "    if (len(inset)>26):\n",
    "        print(\"Tower Locations: \", indexes, \"\\nCoverage: \", len(inset), \"Neighborhoods: \", inset, \"\\n\")\n",
    "        \n",
    "    "
   ]
  }
 ],
 "metadata": {
  "kernelspec": {
   "display_name": "Python 3",
   "language": "python",
   "name": "python3"
  },
  "language_info": {
   "codemirror_mode": {
    "name": "ipython",
    "version": 3
   },
   "file_extension": ".py",
   "mimetype": "text/x-python",
   "name": "python",
   "nbconvert_exporter": "python",
   "pygments_lexer": "ipython3",
   "version": "3.5.1"
  }
 },
 "nbformat": 4,
 "nbformat_minor": 0
}
